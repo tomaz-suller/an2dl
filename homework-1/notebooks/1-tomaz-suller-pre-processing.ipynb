{
 "cells": [
  {
   "cell_type": "code",
   "execution_count": 24,
   "metadata": {},
   "outputs": [],
   "source": [
    "from pathlib import Path\n",
    "\n",
    "import numpy as np\n",
    "import tensorflow as tf\n",
    "import keras_cv\n",
    "import seaborn as sns\n",
    "from keras.utils import to_categorical\n",
    "from sklearn.model_selection import train_test_split"
   ]
  },
  {
   "cell_type": "code",
   "execution_count": 25,
   "metadata": {},
   "outputs": [],
   "source": [
    "SEED = 42\n",
    "DATA_DIR = Path().absolute().parent / \"data\"\n",
    "DATA_PATH = DATA_DIR / \"training_set.npz\"\n",
    "OUTPUT_DIR = DATA_DIR / \"augmented\""
   ]
  },
  {
   "cell_type": "code",
   "execution_count": 26,
   "metadata": {},
   "outputs": [],
   "source": [
    "RNG = np.random.default_rng(SEED)"
   ]
  },
  {
   "cell_type": "code",
   "execution_count": 27,
   "metadata": {},
   "outputs": [
    {
     "name": "stdout",
     "output_type": "stream",
     "text": [
      "(13759, 96, 96, 3)\n",
      "(13759, 1)\n"
     ]
    }
   ],
   "source": [
    "with np.load(DATA_PATH) as data:\n",
    "    images: np.ndarray = data[\"images\"]\n",
    "    labels: np.ndarray = data[\"labels\"]\n",
    "\n",
    "print(images.shape)\n",
    "print(labels.shape)"
   ]
  },
  {
   "cell_type": "markdown",
   "metadata": {},
   "source": [
    "## Cleaning"
   ]
  },
  {
   "cell_type": "code",
   "execution_count": 28,
   "metadata": {},
   "outputs": [],
   "source": [
    "image_means: np.ndarray = images.mean(axis=(1, 2, 3))"
   ]
  },
  {
   "cell_type": "code",
   "execution_count": 29,
   "metadata": {},
   "outputs": [
    {
     "data": {
      "text/plain": [
       "2"
      ]
     },
     "execution_count": 29,
     "metadata": {},
     "output_type": "execute_result"
    }
   ],
   "source": [
    "TOLERANCE = 1e-4\n",
    "MIN_DUPLICATES = 5\n",
    "\n",
    "mean_indices = {}\n",
    "for mean in image_means:\n",
    "    indices = (np.abs(mean - image_means) <= TOLERANCE).nonzero()[0]\n",
    "    if len(indices) > MIN_DUPLICATES:\n",
    "        mean_indices[mean] = indices\n",
    "\n",
    "len(mean_indices.keys())"
   ]
  },
  {
   "cell_type": "code",
   "execution_count": 30,
   "metadata": {},
   "outputs": [
    {
     "data": {
      "text/plain": [
       "(1800,)"
      ]
     },
     "execution_count": 30,
     "metadata": {},
     "output_type": "execute_result"
    }
   ],
   "source": [
    "duplicated_indices = []\n",
    "for indices in mean_indices.values():\n",
    "    duplicated_indices.extend(indices)\n",
    "duplicated_indices = np.array(duplicated_indices)\n",
    "duplicated_indices.shape"
   ]
  },
  {
   "cell_type": "code",
   "execution_count": 31,
   "metadata": {},
   "outputs": [
    {
     "data": {
      "text/plain": [
       "(11959,)"
      ]
     },
     "execution_count": 31,
     "metadata": {},
     "output_type": "execute_result"
    }
   ],
   "source": [
    "original_indices = np.setdiff1d(\n",
    "    list(range(images.shape[0])),\n",
    "    duplicated_indices\n",
    ")\n",
    "original_indices.shape"
   ]
  },
  {
   "cell_type": "code",
   "execution_count": 32,
   "metadata": {},
   "outputs": [
    {
     "name": "stdout",
     "output_type": "stream",
     "text": [
      "(11959, 96, 96, 3)\n",
      "(11959, 1)\n"
     ]
    }
   ],
   "source": [
    "clean_images = images[original_indices]\n",
    "clean_labels = labels[original_indices]\n",
    "\n",
    "print(clean_images.shape)\n",
    "print(clean_labels.shape)"
   ]
  },
  {
   "cell_type": "markdown",
   "metadata": {},
   "source": [
    "## Validation split"
   ]
  },
  {
   "cell_type": "code",
   "execution_count": 33,
   "metadata": {},
   "outputs": [
    {
     "name": "stdout",
     "output_type": "stream",
     "text": [
      "(10165, 96, 96, 3)\n",
      "(10165, 1)\n",
      "(1794, 96, 96, 3)\n",
      "(1794, 1)\n"
     ]
    }
   ],
   "source": [
    "images_train, images_val, labels_train, labels_val = train_test_split(\n",
    "    clean_images, clean_labels,\n",
    "    test_size=.15,\n",
    "    random_state=42,\n",
    "    stratify=clean_labels,\n",
    ")\n",
    "\n",
    "print(images_train.shape)\n",
    "print(labels_train.shape)\n",
    "\n",
    "print(images_val.shape)\n",
    "print(labels_val.shape)"
   ]
  },
  {
   "cell_type": "code",
   "execution_count": 34,
   "metadata": {},
   "outputs": [],
   "source": [
    "data = {\n",
    "    \"train\": {\n",
    "        \"images\": images_train,\n",
    "        \"labels\": labels_train,\n",
    "    },\n",
    "    \"val\": {\n",
    "        \"images\": images_val,\n",
    "        \"labels\": labels_val,\n",
    "    }\n",
    "}"
   ]
  },
  {
   "cell_type": "markdown",
   "metadata": {},
   "source": [
    "## Rebalance"
   ]
  },
  {
   "cell_type": "code",
   "execution_count": 35,
   "metadata": {},
   "outputs": [
    {
     "data": {
      "text/plain": [
       "array([0.99647887, 0.38927098, 0.78248848, 0.41905232, 1.        ,\n",
       "       0.85498489, 0.36437768, 0.51673767])"
      ]
     },
     "execution_count": 35,
     "metadata": {},
     "output_type": "execute_result"
    }
   ],
   "source": [
    "unique_labels, counts = np.unique(clean_labels, return_counts=True)\n",
    "count_proportion = counts / counts.min()\n",
    "sample_proportion = 1 / count_proportion\n",
    "sample_proportion"
   ]
  },
  {
   "cell_type": "code",
   "execution_count": 36,
   "metadata": {},
   "outputs": [
    {
     "data": {
      "text/plain": [
       "{'train': {'images': array([[[[253, 231, 195],\n",
       "           [255, 232, 198],\n",
       "           [255, 229, 199],\n",
       "           ...,\n",
       "           [214, 179, 173],\n",
       "           [215, 180, 174],\n",
       "           [212, 177, 171]],\n",
       "  \n",
       "          [[253, 229, 198],\n",
       "           [250, 224, 194],\n",
       "           [252, 221, 195],\n",
       "           ...,\n",
       "           [213, 178, 172],\n",
       "           [214, 179, 173],\n",
       "           [212, 177, 171]],\n",
       "  \n",
       "          [[240, 211, 189],\n",
       "           [240, 209, 189],\n",
       "           [239, 206, 188],\n",
       "           ...,\n",
       "           [214, 179, 173],\n",
       "           [214, 179, 173],\n",
       "           [217, 182, 176]],\n",
       "  \n",
       "          ...,\n",
       "  \n",
       "          [[215, 174, 181],\n",
       "           [216, 175, 179],\n",
       "           [215, 175, 178],\n",
       "           ...,\n",
       "           [199, 160, 161],\n",
       "           [200, 161, 162],\n",
       "           [201, 162, 163]],\n",
       "  \n",
       "          [[210, 178, 177],\n",
       "           [212, 179, 177],\n",
       "           [212, 180, 176],\n",
       "           ...,\n",
       "           [200, 161, 162],\n",
       "           [202, 163, 164],\n",
       "           [203, 164, 165]],\n",
       "  \n",
       "          [[214, 178, 178],\n",
       "           [212, 176, 176],\n",
       "           [212, 176, 176],\n",
       "           ...,\n",
       "           [201, 166, 164],\n",
       "           [201, 166, 164],\n",
       "           [201, 166, 164]]],\n",
       "  \n",
       "  \n",
       "         [[[255, 228, 201],\n",
       "           [254, 227, 200],\n",
       "           [255, 229, 202],\n",
       "           ...,\n",
       "           [199, 159, 167],\n",
       "           [203, 163, 171],\n",
       "           [205, 165, 173]],\n",
       "  \n",
       "          [[255, 228, 201],\n",
       "           [254, 227, 200],\n",
       "           [255, 229, 202],\n",
       "           ...,\n",
       "           [198, 158, 166],\n",
       "           [199, 159, 167],\n",
       "           [200, 160, 168]],\n",
       "  \n",
       "          [[255, 228, 201],\n",
       "           [254, 227, 200],\n",
       "           [255, 229, 202],\n",
       "           ...,\n",
       "           [195, 155, 163],\n",
       "           [198, 158, 166],\n",
       "           [200, 161, 168]],\n",
       "  \n",
       "          ...,\n",
       "  \n",
       "          [[237, 209, 188],\n",
       "           [250, 224, 201],\n",
       "           [251, 227, 200],\n",
       "           ...,\n",
       "           [255, 224, 203],\n",
       "           [255, 224, 206],\n",
       "           [252, 221, 206]],\n",
       "  \n",
       "          [[251, 228, 196],\n",
       "           [250, 227, 196],\n",
       "           [253, 227, 200],\n",
       "           ...,\n",
       "           [255, 225, 204],\n",
       "           [255, 224, 206],\n",
       "           [252, 221, 206]],\n",
       "  \n",
       "          [[255, 228, 200],\n",
       "           [255, 227, 199],\n",
       "           [255, 230, 201],\n",
       "           ...,\n",
       "           [251, 222, 201],\n",
       "           [252, 222, 201],\n",
       "           [254, 221, 201]]],\n",
       "  \n",
       "  \n",
       "         [[[254, 226, 200],\n",
       "           [254, 228, 199],\n",
       "           [255, 233, 198],\n",
       "           ...,\n",
       "           [255, 229, 202],\n",
       "           [255, 229, 202],\n",
       "           [255, 229, 202]],\n",
       "  \n",
       "          [[253, 230, 199],\n",
       "           [255, 230, 198],\n",
       "           [255, 230, 198],\n",
       "           ...,\n",
       "           [253, 227, 200],\n",
       "           [253, 227, 200],\n",
       "           [253, 227, 200]],\n",
       "  \n",
       "          [[255, 235, 197],\n",
       "           [250, 225, 196],\n",
       "           [243, 213, 193],\n",
       "           ...,\n",
       "           [254, 228, 201],\n",
       "           [254, 228, 201],\n",
       "           [254, 228, 201]],\n",
       "  \n",
       "          ...,\n",
       "  \n",
       "          [[197, 161, 165],\n",
       "           [195, 158, 165],\n",
       "           [192, 154, 164],\n",
       "           ...,\n",
       "           [238, 208, 191],\n",
       "           [250, 227, 193],\n",
       "           [251, 226, 190]],\n",
       "  \n",
       "          [[196, 160, 164],\n",
       "           [194, 157, 164],\n",
       "           [193, 155, 164],\n",
       "           ...,\n",
       "           [252, 228, 197],\n",
       "           [254, 233, 198],\n",
       "           [252, 224, 197]],\n",
       "  \n",
       "          [[194, 157, 165],\n",
       "           [193, 156, 163],\n",
       "           [192, 156, 162],\n",
       "           ...,\n",
       "           [253, 226, 197],\n",
       "           [254, 226, 197],\n",
       "           [255, 228, 198]]],\n",
       "  \n",
       "  \n",
       "         ...,\n",
       "  \n",
       "  \n",
       "         [[[254, 228, 203],\n",
       "           [254, 228, 203],\n",
       "           [254, 228, 203],\n",
       "           ...,\n",
       "           [250, 222, 200],\n",
       "           [252, 224, 202],\n",
       "           [250, 222, 200]],\n",
       "  \n",
       "          [[254, 228, 203],\n",
       "           [254, 228, 203],\n",
       "           [254, 228, 203],\n",
       "           ...,\n",
       "           [252, 224, 202],\n",
       "           [254, 226, 204],\n",
       "           [252, 224, 202]],\n",
       "  \n",
       "          [[254, 228, 203],\n",
       "           [254, 228, 203],\n",
       "           [254, 228, 203],\n",
       "           ...,\n",
       "           [254, 226, 204],\n",
       "           [253, 226, 204],\n",
       "           [250, 222, 200]],\n",
       "  \n",
       "          ...,\n",
       "  \n",
       "          [[205, 164, 170],\n",
       "           [206, 165, 171],\n",
       "           [208, 169, 174],\n",
       "           ...,\n",
       "           [254, 227, 201],\n",
       "           [255, 227, 201],\n",
       "           [255, 229, 203]],\n",
       "  \n",
       "          [[206, 165, 173],\n",
       "           [208, 166, 174],\n",
       "           [211, 170, 178],\n",
       "           ...,\n",
       "           [255, 227, 204],\n",
       "           [255, 227, 204],\n",
       "           [255, 228, 204]],\n",
       "  \n",
       "          [[215, 178, 177],\n",
       "           [220, 184, 180],\n",
       "           [228, 193, 181],\n",
       "           ...,\n",
       "           [254, 229, 203],\n",
       "           [255, 229, 203],\n",
       "           [254, 229, 203]]],\n",
       "  \n",
       "  \n",
       "         [[[248, 224, 194],\n",
       "           [244, 224, 191],\n",
       "           [231, 205, 184],\n",
       "           ...,\n",
       "           [209, 171, 173],\n",
       "           [206, 165, 172],\n",
       "           [195, 162, 163]],\n",
       "  \n",
       "          [[250, 226, 196],\n",
       "           [244, 224, 193],\n",
       "           [233, 207, 186],\n",
       "           ...,\n",
       "           [219, 183, 178],\n",
       "           [215, 173, 176],\n",
       "           [206, 167, 169]],\n",
       "  \n",
       "          [[251, 227, 198],\n",
       "           [244, 224, 192],\n",
       "           [233, 207, 186],\n",
       "           ...,\n",
       "           [225, 193, 181],\n",
       "           [220, 179, 179],\n",
       "           [212, 172, 173]],\n",
       "  \n",
       "          ...,\n",
       "  \n",
       "          [[255, 229, 198],\n",
       "           [253, 226, 199],\n",
       "           [249, 222, 197],\n",
       "           ...,\n",
       "           [194, 157, 165],\n",
       "           [190, 152, 163],\n",
       "           [189, 151, 164]],\n",
       "  \n",
       "          [[252, 226, 192],\n",
       "           [249, 222, 193],\n",
       "           [240, 212, 189],\n",
       "           ...,\n",
       "           [196, 158, 168],\n",
       "           [191, 153, 164],\n",
       "           [190, 152, 165]],\n",
       "  \n",
       "          [[248, 224, 190],\n",
       "           [239, 211, 188],\n",
       "           [230, 198, 186],\n",
       "           ...,\n",
       "           [198, 156, 168],\n",
       "           [194, 154, 173],\n",
       "           [193, 155, 169]]],\n",
       "  \n",
       "  \n",
       "         [[[251, 224, 194],\n",
       "           [252, 225, 195],\n",
       "           [251, 223, 198],\n",
       "           ...,\n",
       "           [239, 207, 192],\n",
       "           [237, 204, 190],\n",
       "           [238, 206, 191]],\n",
       "  \n",
       "          [[251, 224, 195],\n",
       "           [248, 221, 194],\n",
       "           [248, 220, 197],\n",
       "           ...,\n",
       "           [241, 211, 193],\n",
       "           [240, 209, 191],\n",
       "           [239, 208, 190]],\n",
       "  \n",
       "          [[242, 215, 189],\n",
       "           [242, 214, 189],\n",
       "           [246, 218, 197],\n",
       "           ...,\n",
       "           [244, 213, 193],\n",
       "           [242, 211, 191],\n",
       "           [238, 207, 187]],\n",
       "  \n",
       "          ...,\n",
       "  \n",
       "          [[255, 228, 201],\n",
       "           [255, 228, 201],\n",
       "           [255, 228, 201],\n",
       "           ...,\n",
       "           [208, 168, 168],\n",
       "           [210, 170, 170],\n",
       "           [213, 173, 173]],\n",
       "  \n",
       "          [[255, 228, 201],\n",
       "           [255, 228, 201],\n",
       "           [255, 228, 201],\n",
       "           ...,\n",
       "           [209, 169, 169],\n",
       "           [211, 171, 171],\n",
       "           [214, 174, 174]],\n",
       "  \n",
       "          [[255, 229, 202],\n",
       "           [255, 229, 202],\n",
       "           [255, 229, 202],\n",
       "           ...,\n",
       "           [212, 177, 174],\n",
       "           [211, 175, 178],\n",
       "           [215, 181, 177]]]], dtype=uint8),\n",
       "  'labels': array([[0],\n",
       "         [0],\n",
       "         [0],\n",
       "         ...,\n",
       "         [7],\n",
       "         [7],\n",
       "         [7]], dtype=uint8)},\n",
       " 'val': {'images': array([[[[207, 171, 175],\n",
       "           [210, 174, 174],\n",
       "           [215, 180, 174],\n",
       "           ...,\n",
       "           [208, 167, 176],\n",
       "           [208, 167, 176],\n",
       "           [208, 167, 175]],\n",
       "  \n",
       "          [[210, 175, 175],\n",
       "           [213, 178, 175],\n",
       "           [218, 184, 175],\n",
       "           ...,\n",
       "           [219, 182, 178],\n",
       "           [218, 181, 177],\n",
       "           [217, 180, 176]],\n",
       "  \n",
       "          [[211, 176, 175],\n",
       "           [214, 179, 175],\n",
       "           [220, 186, 177],\n",
       "           ...,\n",
       "           [243, 217, 191],\n",
       "           [242, 216, 190],\n",
       "           [240, 215, 189]],\n",
       "  \n",
       "          ...,\n",
       "  \n",
       "          [[254, 226, 205],\n",
       "           [255, 227, 203],\n",
       "           [255, 228, 203],\n",
       "           ...,\n",
       "           [204, 165, 170],\n",
       "           [203, 164, 169],\n",
       "           [201, 163, 167]],\n",
       "  \n",
       "          [[255, 227, 205],\n",
       "           [255, 228, 204],\n",
       "           [255, 230, 203],\n",
       "           ...,\n",
       "           [209, 169, 177],\n",
       "           [208, 168, 176],\n",
       "           [205, 165, 173]],\n",
       "  \n",
       "          [[254, 226, 203],\n",
       "           [254, 227, 195],\n",
       "           [255, 229, 196],\n",
       "           ...,\n",
       "           [212, 172, 180],\n",
       "           [209, 167, 178],\n",
       "           [206, 164, 165]]],\n",
       "  \n",
       "  \n",
       "         [[[251, 225, 198],\n",
       "           [251, 225, 198],\n",
       "           [249, 223, 196],\n",
       "           ...,\n",
       "           [251, 225, 198],\n",
       "           [251, 225, 198],\n",
       "           [251, 225, 198]],\n",
       "  \n",
       "          [[252, 226, 199],\n",
       "           [250, 224, 197],\n",
       "           [249, 223, 196],\n",
       "           ...,\n",
       "           [251, 225, 198],\n",
       "           [251, 225, 198],\n",
       "           [251, 225, 198]],\n",
       "  \n",
       "          [[253, 227, 200],\n",
       "           [250, 224, 197],\n",
       "           [250, 224, 197],\n",
       "           ...,\n",
       "           [251, 225, 198],\n",
       "           [251, 225, 198],\n",
       "           [251, 225, 198]],\n",
       "  \n",
       "          ...,\n",
       "  \n",
       "          [[206, 168, 167],\n",
       "           [205, 167, 166],\n",
       "           [204, 166, 165],\n",
       "           ...,\n",
       "           [250, 224, 196],\n",
       "           [251, 226, 196],\n",
       "           [250, 225, 193]],\n",
       "  \n",
       "          [[207, 169, 168],\n",
       "           [205, 167, 166],\n",
       "           [204, 166, 165],\n",
       "           ...,\n",
       "           [250, 226, 202],\n",
       "           [250, 226, 199],\n",
       "           [252, 229, 199]],\n",
       "  \n",
       "          [[209, 168, 166],\n",
       "           [205, 165, 163],\n",
       "           [204, 164, 162],\n",
       "           ...,\n",
       "           [252, 225, 198],\n",
       "           [252, 226, 199],\n",
       "           [253, 227, 200]]],\n",
       "  \n",
       "  \n",
       "         [[[194, 160, 165],\n",
       "           [191, 155, 162],\n",
       "           [192, 153, 161],\n",
       "           ...,\n",
       "           [221, 193, 181],\n",
       "           [219, 190, 180],\n",
       "           [216, 187, 177]],\n",
       "  \n",
       "          [[194, 160, 165],\n",
       "           [192, 156, 162],\n",
       "           [193, 154, 161],\n",
       "           ...,\n",
       "           [222, 196, 181],\n",
       "           [219, 193, 180],\n",
       "           [216, 190, 178]],\n",
       "  \n",
       "          [[192, 158, 163],\n",
       "           [193, 157, 163],\n",
       "           [193, 155, 163],\n",
       "           ...,\n",
       "           [225, 203, 183],\n",
       "           [222, 200, 182],\n",
       "           [219, 196, 182]],\n",
       "  \n",
       "          ...,\n",
       "  \n",
       "          [[204, 168, 172],\n",
       "           [202, 166, 170],\n",
       "           [198, 162, 166],\n",
       "           ...,\n",
       "           [254, 226, 202],\n",
       "           [254, 226, 202],\n",
       "           [254, 226, 202]],\n",
       "  \n",
       "          [[205, 169, 173],\n",
       "           [203, 167, 171],\n",
       "           [201, 165, 169],\n",
       "           ...,\n",
       "           [254, 226, 202],\n",
       "           [254, 226, 202],\n",
       "           [254, 226, 202]],\n",
       "  \n",
       "          [[204, 168, 168],\n",
       "           [201, 165, 165],\n",
       "           [199, 163, 162],\n",
       "           ...,\n",
       "           [253, 224, 200],\n",
       "           [254, 228, 203],\n",
       "           [250, 226, 200]]],\n",
       "  \n",
       "  \n",
       "         ...,\n",
       "  \n",
       "  \n",
       "         [[[222, 183, 176],\n",
       "           [222, 183, 176],\n",
       "           [222, 183, 176],\n",
       "           ...,\n",
       "           [253, 227, 202],\n",
       "           [253, 227, 202],\n",
       "           [252, 226, 201]],\n",
       "  \n",
       "          [[223, 184, 177],\n",
       "           [222, 183, 176],\n",
       "           [222, 183, 176],\n",
       "           ...,\n",
       "           [253, 227, 202],\n",
       "           [253, 227, 202],\n",
       "           [251, 225, 200]],\n",
       "  \n",
       "          [[223, 185, 177],\n",
       "           [222, 183, 176],\n",
       "           [222, 183, 176],\n",
       "           ...,\n",
       "           [253, 227, 202],\n",
       "           [253, 227, 202],\n",
       "           [251, 225, 200]],\n",
       "  \n",
       "          ...,\n",
       "  \n",
       "          [[246, 213, 194],\n",
       "           [234, 198, 184],\n",
       "           [226, 185, 182],\n",
       "           ...,\n",
       "           [251, 224, 197],\n",
       "           [252, 224, 198],\n",
       "           [249, 221, 195]],\n",
       "  \n",
       "          [[255, 226, 198],\n",
       "           [251, 221, 196],\n",
       "           [242, 215, 192],\n",
       "           ...,\n",
       "           [255, 231, 203],\n",
       "           [254, 230, 203],\n",
       "           [253, 229, 202]],\n",
       "  \n",
       "          [[255, 226, 200],\n",
       "           [255, 225, 200],\n",
       "           [255, 225, 199],\n",
       "           ...,\n",
       "           [254, 229, 198],\n",
       "           [254, 229, 198],\n",
       "           [253, 228, 196]]],\n",
       "  \n",
       "  \n",
       "         [[[216, 179, 175],\n",
       "           [217, 179, 173],\n",
       "           [232, 202, 183],\n",
       "           ...,\n",
       "           [199, 167, 172],\n",
       "           [195, 163, 171],\n",
       "           [196, 164, 172]],\n",
       "  \n",
       "          [[213, 177, 175],\n",
       "           [220, 182, 179],\n",
       "           [231, 201, 185],\n",
       "           ...,\n",
       "           [199, 170, 173],\n",
       "           [195, 165, 171],\n",
       "           [194, 164, 172]],\n",
       "  \n",
       "          [[214, 177, 176],\n",
       "           [216, 177, 176],\n",
       "           [227, 196, 181],\n",
       "           ...,\n",
       "           [196, 170, 173],\n",
       "           [194, 167, 171],\n",
       "           [191, 164, 171]],\n",
       "  \n",
       "          ...,\n",
       "  \n",
       "          [[251, 228, 195],\n",
       "           [240, 213, 190],\n",
       "           [223, 188, 180],\n",
       "           ...,\n",
       "           [255, 231, 201],\n",
       "           [255, 232, 202],\n",
       "           [255, 231, 201]],\n",
       "  \n",
       "          [[251, 228, 195],\n",
       "           [240, 213, 190],\n",
       "           [224, 188, 180],\n",
       "           ...,\n",
       "           [255, 231, 201],\n",
       "           [255, 230, 200],\n",
       "           [253, 228, 198]],\n",
       "  \n",
       "          [[255, 227, 197],\n",
       "           [242, 217, 188],\n",
       "           [221, 191, 177],\n",
       "           ...,\n",
       "           [251, 227, 196],\n",
       "           [249, 221, 194],\n",
       "           [238, 208, 182]]],\n",
       "  \n",
       "  \n",
       "         [[[203, 163, 171],\n",
       "           [202, 162, 171],\n",
       "           [202, 162, 171],\n",
       "           ...,\n",
       "           [245, 218, 189],\n",
       "           [243, 223, 188],\n",
       "           [244, 228, 188]],\n",
       "  \n",
       "          [[207, 168, 173],\n",
       "           [207, 167, 172],\n",
       "           [207, 168, 173],\n",
       "           ...,\n",
       "           [234, 202, 181],\n",
       "           [235, 206, 180],\n",
       "           [243, 215, 185]],\n",
       "  \n",
       "          [[220, 183, 180],\n",
       "           [223, 185, 183],\n",
       "           [225, 188, 184],\n",
       "           ...,\n",
       "           [219, 183, 179],\n",
       "           [222, 185, 177],\n",
       "           [228, 190, 178]],\n",
       "  \n",
       "          ...,\n",
       "  \n",
       "          [[252, 228, 202],\n",
       "           [252, 228, 202],\n",
       "           [252, 228, 202],\n",
       "           ...,\n",
       "           [211, 169, 175],\n",
       "           [212, 170, 173],\n",
       "           [209, 167, 169]],\n",
       "  \n",
       "          [[252, 228, 202],\n",
       "           [252, 228, 202],\n",
       "           [252, 228, 202],\n",
       "           ...,\n",
       "           [204, 169, 170],\n",
       "           [205, 169, 172],\n",
       "           [201, 165, 169]],\n",
       "  \n",
       "          [[253, 229, 203],\n",
       "           [253, 229, 203],\n",
       "           [253, 229, 203],\n",
       "           ...,\n",
       "           [202, 159, 167],\n",
       "           [205, 163, 169],\n",
       "           [204, 161, 168]]]], dtype=uint8),\n",
       "  'labels': array([[0],\n",
       "         [0],\n",
       "         [0],\n",
       "         ...,\n",
       "         [7],\n",
       "         [7],\n",
       "         [7]], dtype=uint8)}}"
      ]
     },
     "execution_count": 36,
     "metadata": {},
     "output_type": "execute_result"
    }
   ],
   "source": [
    "rebalanced_data = {}\n",
    "for name, set_ in data.items():\n",
    "    rebalanced_image_list = []\n",
    "    rebalanced_label_list = []\n",
    "\n",
    "    _, counts = np.unique(set_[\"labels\"], return_counts=True)\n",
    "    min_count = np.min(counts)\n",
    "\n",
    "    for label, proportion in zip(np.unique(set_[\"labels\"]), sample_proportion):\n",
    "        label_support = np.nonzero(set_[\"labels\"] == label)[0]\n",
    "        i = RNG.choice(label_support, min_count, replace=False)\n",
    "        rebalanced_image_list.append(set_[\"images\"][i])\n",
    "        rebalanced_label_list.append(set_[\"labels\"][i])\n",
    "    rebalanced_data[name] = {\n",
    "        \"images\": np.concatenate(rebalanced_image_list, axis=0),\n",
    "        \"labels\": np.concatenate(rebalanced_label_list, axis=0),\n",
    "    }\n",
    "rebalanced_data"
   ]
  },
  {
   "cell_type": "code",
   "execution_count": 37,
   "metadata": {},
   "outputs": [
    {
     "data": {
      "text/plain": [
       "<Axes: ylabel='Count'>"
      ]
     },
     "execution_count": 37,
     "metadata": {},
     "output_type": "execute_result"
    },
    {
     "data": {
      "image/png": "[encoded data removed]",
      "text/plain": [
       "<Figure size 640x480 with 1 Axes>"
      ]
     },
     "metadata": {},
     "output_type": "display_data"
    }
   ],
   "source": [
    "sns.histplot(rebalanced_data[\"train\"][\"labels\"])"
   ]
  },
  {
   "cell_type": "code",
   "execution_count": 38,
   "metadata": {},
   "outputs": [
    {
     "data": {
      "text/plain": [
       "<Axes: ylabel='Count'>"
      ]
     },
     "execution_count": 38,
     "metadata": {},
     "output_type": "execute_result"
    },
    {
     "data": {
      "image/png": "[encoded data removed]",
      "text/plain": [
       "<Figure size 640x480 with 1 Axes>"
      ]
     },
     "metadata": {},
     "output_type": "display_data"
    }
   ],
   "source": [
    "sns.histplot(rebalanced_data[\"val\"][\"labels\"])"
   ]
  },
  {
   "cell_type": "markdown",
   "metadata": {},
   "source": [
    "## Augmentation"
   ]
  },
  {
   "cell_type": "code",
   "execution_count": 39,
   "metadata": {},
   "outputs": [],
   "source": [
    "def augment(dataset: tf.data.Dataset) -> tf.Tensor:\n",
    "    rotation = keras_cv.layers.RandomRotation(\n",
    "        1.0,\n",
    "        fill_mode=\"constant\",\n",
    "        fill_value=221,\n",
    "    )\n",
    "    brightness = keras_cv.layers.RandomBrightness((-0.05, 0.05))\n",
    "    return brightness(rotation(dataset))"
   ]
  },
  {
   "cell_type": "code",
   "execution_count": 40,
   "metadata": {},
   "outputs": [],
   "source": [
    "def one_hot_encode(x, y, num_classes=8):\n",
    "    return (\n",
    "        x,\n",
    "        tf.reshape(\n",
    "            tf.cast(to_categorical(y, num_classes=num_classes), tf.uint8),\n",
    "            [-1],\n",
    "        )\n",
    "    )"
   ]
  },
  {
   "cell_type": "code",
   "execution_count": 41,
   "metadata": {},
   "outputs": [],
   "source": [
    "augmented_data: dict[str, tf.data.Dataset] = {}\n",
    "for name, rebalanced_set in rebalanced_data.items():\n",
    "    augmented_images = augment(rebalanced_set[\"images\"]).numpy()\n",
    "    augmented_labels = rebalanced_set[\"labels\"]\n",
    "    augmented_dataset = (\n",
    "        tf.data.Dataset.from_tensor_slices((augmented_images, augmented_labels))\n",
    "        .map(one_hot_encode, num_parallel_calls=tf.data.AUTOTUNE)\n",
    "    )\n",
    "    augmented_dataset = augmented_dataset.shuffle(augmented_dataset.cardinality())\n",
    "\n",
    "    augmented_data[name] = augmented_dataset"
   ]
  },
  {
   "cell_type": "code",
   "execution_count": 42,
   "metadata": {},
   "outputs": [],
   "source": [
    "for name, dataset in augmented_data.items():\n",
    "    dataset.save(str(OUTPUT_DIR / name))"
   ]
  },
  {
   "cell_type": "markdown",
   "metadata": {},
   "source": [
    "## Analysis"
   ]
  },
  {
   "cell_type": "code",
   "execution_count": 43,
   "metadata": {},
   "outputs": [],
   "source": [
    "augmented_train_dataset = tf.data.Dataset.load(str(OUTPUT_DIR / \"train\"))\n",
    "augmented_val_dataset = tf.data.Dataset.load(str(OUTPUT_DIR / \"val\"))"
   ]
  },
  {
   "cell_type": "code",
   "execution_count": 44,
   "metadata": {},
   "outputs": [
    {
     "data": {
      "text/plain": [
       "<_TakeDataset element_spec=(TensorSpec(shape=(96, 96, 3), dtype=tf.float32, name=None), TensorSpec(shape=(8,), dtype=tf.uint8, name=None))>"
      ]
     },
     "execution_count": 44,
     "metadata": {},
     "output_type": "execute_result"
    }
   ],
   "source": [
    "augmented_train_dataset.take(1)"
   ]
  },
  {
   "cell_type": "code",
   "execution_count": 45,
   "metadata": {},
   "outputs": [
    {
     "name": "stderr",
     "output_type": "stream",
     "text": [
      "2024-11-22 20:49:10.317801: W tensorflow/core/framework/local_rendezvous.cc:404] Local rendezvous is aborting with status: OUT_OF_RANGE: End of sequence\n"
     ]
    },
    {
     "data": {
      "text/plain": [
       "5776"
      ]
     },
     "execution_count": 45,
     "metadata": {},
     "output_type": "execute_result"
    }
   ],
   "source": [
    "len([sample for sample in augmented_train_dataset])"
   ]
  },
  {
   "cell_type": "code",
   "execution_count": 46,
   "metadata": {},
   "outputs": [
    {
     "ename": "KeyboardInterrupt",
     "evalue": "",
     "output_type": "error",
     "traceback": [
      "\u001b[0;31m---------------------------------------------------------------------------\u001b[0m",
      "\u001b[0;31mKeyboardInterrupt\u001b[0m                         Traceback (most recent call last)",
      "Cell \u001b[0;32mIn[46], line 3\u001b[0m\n\u001b[1;32m      1\u001b[0m \u001b[38;5;28;01mimport\u001b[39;00m \u001b[38;5;21;01mmatplotlib\u001b[39;00m\u001b[38;5;21;01m.\u001b[39;00m\u001b[38;5;21;01mpyplot\u001b[39;00m \u001b[38;5;28;01mas\u001b[39;00m \u001b[38;5;21;01mplt\u001b[39;00m\n\u001b[0;32m----> 3\u001b[0m fig, axes \u001b[38;5;241m=\u001b[39m \u001b[43mplt\u001b[49m\u001b[38;5;241;43m.\u001b[39;49m\u001b[43msubplots\u001b[49m\u001b[43m(\u001b[49m\u001b[43mnrows\u001b[49m\u001b[38;5;241;43m=\u001b[39;49m\u001b[38;5;241;43m30\u001b[39;49m\u001b[43m,\u001b[49m\u001b[43m \u001b[49m\u001b[43mncols\u001b[49m\u001b[38;5;241;43m=\u001b[39;49m\u001b[38;5;241;43m30\u001b[39;49m\u001b[43m)\u001b[49m\n\u001b[1;32m      4\u001b[0m axes \u001b[38;5;241m=\u001b[39m axes\u001b[38;5;241m.\u001b[39mreshape((\u001b[38;5;241m-\u001b[39m\u001b[38;5;241m1\u001b[39m))\n\u001b[1;32m      6\u001b[0m shuffled_dataset \u001b[38;5;241m=\u001b[39m augmented_train_dataset\u001b[38;5;241m.\u001b[39mshuffle(augmented_train_dataset\u001b[38;5;241m.\u001b[39mcardinality())\n",
      "File \u001b[0;32m~/git/Politecnico/Subjects/deep-learning/an2dl/.venv/lib/python3.12/site-packages/matplotlib/pyplot.py:1760\u001b[0m, in \u001b[0;36msubplots\u001b[0;34m(nrows, ncols, sharex, sharey, squeeze, width_ratios, height_ratios, subplot_kw, gridspec_kw, **fig_kw)\u001b[0m\n\u001b[1;32m   1615\u001b[0m \u001b[38;5;250m\u001b[39m\u001b[38;5;124;03m\"\"\"\u001b[39;00m\n\u001b[1;32m   1616\u001b[0m \u001b[38;5;124;03mCreate a figure and a set of subplots.\u001b[39;00m\n\u001b[1;32m   1617\u001b[0m \n\u001b[0;32m   (...)\u001b[0m\n\u001b[1;32m   1757\u001b[0m \n\u001b[1;32m   1758\u001b[0m \u001b[38;5;124;03m\"\"\"\u001b[39;00m\n\u001b[1;32m   1759\u001b[0m fig \u001b[38;5;241m=\u001b[39m figure(\u001b[38;5;241m*\u001b[39m\u001b[38;5;241m*\u001b[39mfig_kw)\n\u001b[0;32m-> 1760\u001b[0m axs \u001b[38;5;241m=\u001b[39m \u001b[43mfig\u001b[49m\u001b[38;5;241;43m.\u001b[39;49m\u001b[43msubplots\u001b[49m\u001b[43m(\u001b[49m\u001b[43mnrows\u001b[49m\u001b[38;5;241;43m=\u001b[39;49m\u001b[43mnrows\u001b[49m\u001b[43m,\u001b[49m\u001b[43m \u001b[49m\u001b[43mncols\u001b[49m\u001b[38;5;241;43m=\u001b[39;49m\u001b[43mncols\u001b[49m\u001b[43m,\u001b[49m\u001b[43m \u001b[49m\u001b[43msharex\u001b[49m\u001b[38;5;241;43m=\u001b[39;49m\u001b[43msharex\u001b[49m\u001b[43m,\u001b[49m\u001b[43m \u001b[49m\u001b[43msharey\u001b[49m\u001b[38;5;241;43m=\u001b[39;49m\u001b[43msharey\u001b[49m\u001b[43m,\u001b[49m\n\u001b[1;32m   1761\u001b[0m \u001b[43m                   \u001b[49m\u001b[43msqueeze\u001b[49m\u001b[38;5;241;43m=\u001b[39;49m\u001b[43msqueeze\u001b[49m\u001b[43m,\u001b[49m\u001b[43m \u001b[49m\u001b[43msubplot_kw\u001b[49m\u001b[38;5;241;43m=\u001b[39;49m\u001b[43msubplot_kw\u001b[49m\u001b[43m,\u001b[49m\n\u001b[1;32m   1762\u001b[0m \u001b[43m                   \u001b[49m\u001b[43mgridspec_kw\u001b[49m\u001b[38;5;241;43m=\u001b[39;49m\u001b[43mgridspec_kw\u001b[49m\u001b[43m,\u001b[49m\u001b[43m \u001b[49m\u001b[43mheight_ratios\u001b[49m\u001b[38;5;241;43m=\u001b[39;49m\u001b[43mheight_ratios\u001b[49m\u001b[43m,\u001b[49m\n\u001b[1;32m   1763\u001b[0m \u001b[43m                   \u001b[49m\u001b[43mwidth_ratios\u001b[49m\u001b[38;5;241;43m=\u001b[39;49m\u001b[43mwidth_ratios\u001b[49m\u001b[43m)\u001b[49m\n\u001b[1;32m   1764\u001b[0m \u001b[38;5;28;01mreturn\u001b[39;00m fig, axs\n",
      "File \u001b[0;32m~/git/Politecnico/Subjects/deep-learning/an2dl/.venv/lib/python3.12/site-packages/matplotlib/figure.py:861\u001b[0m, in \u001b[0;36mFigureBase.subplots\u001b[0;34m(self, nrows, ncols, sharex, sharey, squeeze, width_ratios, height_ratios, subplot_kw, gridspec_kw)\u001b[0m\n\u001b[1;32m    858\u001b[0m     gridspec_kw[\u001b[38;5;124m'\u001b[39m\u001b[38;5;124mwidth_ratios\u001b[39m\u001b[38;5;124m'\u001b[39m] \u001b[38;5;241m=\u001b[39m width_ratios\n\u001b[1;32m    860\u001b[0m gs \u001b[38;5;241m=\u001b[39m \u001b[38;5;28mself\u001b[39m\u001b[38;5;241m.\u001b[39madd_gridspec(nrows, ncols, figure\u001b[38;5;241m=\u001b[39m\u001b[38;5;28mself\u001b[39m, \u001b[38;5;241m*\u001b[39m\u001b[38;5;241m*\u001b[39mgridspec_kw)\n\u001b[0;32m--> 861\u001b[0m axs \u001b[38;5;241m=\u001b[39m \u001b[43mgs\u001b[49m\u001b[38;5;241;43m.\u001b[39;49m\u001b[43msubplots\u001b[49m\u001b[43m(\u001b[49m\u001b[43msharex\u001b[49m\u001b[38;5;241;43m=\u001b[39;49m\u001b[43msharex\u001b[49m\u001b[43m,\u001b[49m\u001b[43m \u001b[49m\u001b[43msharey\u001b[49m\u001b[38;5;241;43m=\u001b[39;49m\u001b[43msharey\u001b[49m\u001b[43m,\u001b[49m\u001b[43m \u001b[49m\u001b[43msqueeze\u001b[49m\u001b[38;5;241;43m=\u001b[39;49m\u001b[43msqueeze\u001b[49m\u001b[43m,\u001b[49m\n\u001b[1;32m    862\u001b[0m \u001b[43m                  \u001b[49m\u001b[43msubplot_kw\u001b[49m\u001b[38;5;241;43m=\u001b[39;49m\u001b[43msubplot_kw\u001b[49m\u001b[43m)\u001b[49m\n\u001b[1;32m    863\u001b[0m \u001b[38;5;28;01mreturn\u001b[39;00m axs\n",
      "File \u001b[0;32m~/git/Politecnico/Subjects/deep-learning/an2dl/.venv/lib/python3.12/site-packages/matplotlib/gridspec.py:283\u001b[0m, in \u001b[0;36mGridSpecBase.subplots\u001b[0;34m(self, sharex, sharey, squeeze, subplot_kw)\u001b[0m\n\u001b[1;32m    281\u001b[0m         subplot_kw[\u001b[38;5;124m\"\u001b[39m\u001b[38;5;124msharex\u001b[39m\u001b[38;5;124m\"\u001b[39m] \u001b[38;5;241m=\u001b[39m shared_with[sharex]\n\u001b[1;32m    282\u001b[0m         subplot_kw[\u001b[38;5;124m\"\u001b[39m\u001b[38;5;124msharey\u001b[39m\u001b[38;5;124m\"\u001b[39m] \u001b[38;5;241m=\u001b[39m shared_with[sharey]\n\u001b[0;32m--> 283\u001b[0m         axarr[row, col] \u001b[38;5;241m=\u001b[39m \u001b[43mfigure\u001b[49m\u001b[38;5;241;43m.\u001b[39;49m\u001b[43madd_subplot\u001b[49m\u001b[43m(\u001b[49m\n\u001b[1;32m    284\u001b[0m \u001b[43m            \u001b[49m\u001b[38;5;28;43mself\u001b[39;49m\u001b[43m[\u001b[49m\u001b[43mrow\u001b[49m\u001b[43m,\u001b[49m\u001b[43m \u001b[49m\u001b[43mcol\u001b[49m\u001b[43m]\u001b[49m\u001b[43m,\u001b[49m\u001b[43m \u001b[49m\u001b[38;5;241;43m*\u001b[39;49m\u001b[38;5;241;43m*\u001b[39;49m\u001b[43msubplot_kw\u001b[49m\u001b[43m)\u001b[49m\n\u001b[1;32m    286\u001b[0m \u001b[38;5;66;03m# turn off redundant tick labeling\u001b[39;00m\n\u001b[1;32m    287\u001b[0m \u001b[38;5;28;01mif\u001b[39;00m sharex \u001b[38;5;129;01min\u001b[39;00m [\u001b[38;5;124m\"\u001b[39m\u001b[38;5;124mcol\u001b[39m\u001b[38;5;124m\"\u001b[39m, \u001b[38;5;124m\"\u001b[39m\u001b[38;5;124mall\u001b[39m\u001b[38;5;124m\"\u001b[39m]:\n",
      "File \u001b[0;32m~/git/Politecnico/Subjects/deep-learning/an2dl/.venv/lib/python3.12/site-packages/matplotlib/figure.py:710\u001b[0m, in \u001b[0;36mFigureBase.add_subplot\u001b[0;34m(self, *args, **kwargs)\u001b[0m\n\u001b[1;32m    708\u001b[0m         args \u001b[38;5;241m=\u001b[39m \u001b[38;5;28mtuple\u001b[39m(\u001b[38;5;28mmap\u001b[39m(\u001b[38;5;28mint\u001b[39m, \u001b[38;5;28mstr\u001b[39m(args[\u001b[38;5;241m0\u001b[39m])))\n\u001b[1;32m    709\u001b[0m     projection_class, pkw \u001b[38;5;241m=\u001b[39m \u001b[38;5;28mself\u001b[39m\u001b[38;5;241m.\u001b[39m_process_projection_requirements(\u001b[38;5;241m*\u001b[39m\u001b[38;5;241m*\u001b[39mkwargs)\n\u001b[0;32m--> 710\u001b[0m     ax \u001b[38;5;241m=\u001b[39m \u001b[43mprojection_class\u001b[49m\u001b[43m(\u001b[49m\u001b[38;5;28;43mself\u001b[39;49m\u001b[43m,\u001b[49m\u001b[43m \u001b[49m\u001b[38;5;241;43m*\u001b[39;49m\u001b[43margs\u001b[49m\u001b[43m,\u001b[49m\u001b[43m \u001b[49m\u001b[38;5;241;43m*\u001b[39;49m\u001b[38;5;241;43m*\u001b[39;49m\u001b[43mpkw\u001b[49m\u001b[43m)\u001b[49m\n\u001b[1;32m    711\u001b[0m     key \u001b[38;5;241m=\u001b[39m (projection_class, pkw)\n\u001b[1;32m    712\u001b[0m \u001b[38;5;28;01mreturn\u001b[39;00m \u001b[38;5;28mself\u001b[39m\u001b[38;5;241m.\u001b[39m_add_axes_internal(ax, key)\n",
      "File \u001b[0;32m~/git/Politecnico/Subjects/deep-learning/an2dl/.venv/lib/python3.12/site-packages/matplotlib/axes/_base.py:681\u001b[0m, in \u001b[0;36m_AxesBase.__init__\u001b[0;34m(self, fig, facecolor, frameon, sharex, sharey, label, xscale, yscale, box_aspect, forward_navigation_events, *args, **kwargs)\u001b[0m\n\u001b[1;32m    678\u001b[0m \u001b[38;5;28mself\u001b[39m\u001b[38;5;241m.\u001b[39mset_axisbelow(mpl\u001b[38;5;241m.\u001b[39mrcParams[\u001b[38;5;124m'\u001b[39m\u001b[38;5;124maxes.axisbelow\u001b[39m\u001b[38;5;124m'\u001b[39m])\n\u001b[1;32m    680\u001b[0m \u001b[38;5;28mself\u001b[39m\u001b[38;5;241m.\u001b[39m_rasterization_zorder \u001b[38;5;241m=\u001b[39m \u001b[38;5;28;01mNone\u001b[39;00m\n\u001b[0;32m--> 681\u001b[0m \u001b[38;5;28;43mself\u001b[39;49m\u001b[38;5;241;43m.\u001b[39;49m\u001b[43mclear\u001b[49m\u001b[43m(\u001b[49m\u001b[43m)\u001b[49m\n\u001b[1;32m    683\u001b[0m \u001b[38;5;66;03m# funcs used to format x and y - fall back on major formatters\u001b[39;00m\n\u001b[1;32m    684\u001b[0m \u001b[38;5;28mself\u001b[39m\u001b[38;5;241m.\u001b[39mfmt_xdata \u001b[38;5;241m=\u001b[39m \u001b[38;5;28;01mNone\u001b[39;00m\n",
      "File \u001b[0;32m~/git/Politecnico/Subjects/deep-learning/an2dl/.venv/lib/python3.12/site-packages/matplotlib/axes/_base.py:1391\u001b[0m, in \u001b[0;36m_AxesBase.clear\u001b[0;34m(self)\u001b[0m\n\u001b[1;32m   1389\u001b[0m     \u001b[38;5;28mself\u001b[39m\u001b[38;5;241m.\u001b[39mcla()\n\u001b[1;32m   1390\u001b[0m \u001b[38;5;28;01melse\u001b[39;00m:\n\u001b[0;32m-> 1391\u001b[0m     \u001b[38;5;28;43mself\u001b[39;49m\u001b[38;5;241;43m.\u001b[39;49m\u001b[43m__clear\u001b[49m\u001b[43m(\u001b[49m\u001b[43m)\u001b[49m\n",
      "File \u001b[0;32m~/git/Politecnico/Subjects/deep-learning/an2dl/.venv/lib/python3.12/site-packages/matplotlib/axes/_base.py:1307\u001b[0m, in \u001b[0;36m_AxesBase.__clear\u001b[0;34m(self)\u001b[0m\n\u001b[1;32m   1304\u001b[0m \u001b[38;5;28mself\u001b[39m\u001b[38;5;241m.\u001b[39mlegend_ \u001b[38;5;241m=\u001b[39m \u001b[38;5;28;01mNone\u001b[39;00m\n\u001b[1;32m   1305\u001b[0m \u001b[38;5;28mself\u001b[39m\u001b[38;5;241m.\u001b[39mcontainers \u001b[38;5;241m=\u001b[39m []\n\u001b[0;32m-> 1307\u001b[0m \u001b[38;5;28;43mself\u001b[39;49m\u001b[38;5;241;43m.\u001b[39;49m\u001b[43mgrid\u001b[49m\u001b[43m(\u001b[49m\u001b[38;5;28;43;01mFalse\u001b[39;49;00m\u001b[43m)\u001b[49m  \u001b[38;5;66;03m# Disable grid on init to use rcParameter\u001b[39;00m\n\u001b[1;32m   1308\u001b[0m \u001b[38;5;28mself\u001b[39m\u001b[38;5;241m.\u001b[39mgrid(\u001b[38;5;28mself\u001b[39m\u001b[38;5;241m.\u001b[39m_gridOn, which\u001b[38;5;241m=\u001b[39mmpl\u001b[38;5;241m.\u001b[39mrcParams[\u001b[38;5;124m'\u001b[39m\u001b[38;5;124maxes.grid.which\u001b[39m\u001b[38;5;124m'\u001b[39m],\n\u001b[1;32m   1309\u001b[0m           axis\u001b[38;5;241m=\u001b[39mmpl\u001b[38;5;241m.\u001b[39mrcParams[\u001b[38;5;124m'\u001b[39m\u001b[38;5;124maxes.grid.axis\u001b[39m\u001b[38;5;124m'\u001b[39m])\n\u001b[1;32m   1310\u001b[0m props \u001b[38;5;241m=\u001b[39m font_manager\u001b[38;5;241m.\u001b[39mFontProperties(\n\u001b[1;32m   1311\u001b[0m     size\u001b[38;5;241m=\u001b[39mmpl\u001b[38;5;241m.\u001b[39mrcParams[\u001b[38;5;124m'\u001b[39m\u001b[38;5;124maxes.titlesize\u001b[39m\u001b[38;5;124m'\u001b[39m],\n\u001b[1;32m   1312\u001b[0m     weight\u001b[38;5;241m=\u001b[39mmpl\u001b[38;5;241m.\u001b[39mrcParams[\u001b[38;5;124m'\u001b[39m\u001b[38;5;124maxes.titleweight\u001b[39m\u001b[38;5;124m'\u001b[39m])\n",
      "File \u001b[0;32m~/git/Politecnico/Subjects/deep-learning/an2dl/.venv/lib/python3.12/site-packages/matplotlib/axes/_base.py:3268\u001b[0m, in \u001b[0;36m_AxesBase.grid\u001b[0;34m(self, visible, which, axis, **kwargs)\u001b[0m\n\u001b[1;32m   3266\u001b[0m _api\u001b[38;5;241m.\u001b[39mcheck_in_list([\u001b[38;5;124m'\u001b[39m\u001b[38;5;124mx\u001b[39m\u001b[38;5;124m'\u001b[39m, \u001b[38;5;124m'\u001b[39m\u001b[38;5;124my\u001b[39m\u001b[38;5;124m'\u001b[39m, \u001b[38;5;124m'\u001b[39m\u001b[38;5;124mboth\u001b[39m\u001b[38;5;124m'\u001b[39m], axis\u001b[38;5;241m=\u001b[39maxis)\n\u001b[1;32m   3267\u001b[0m \u001b[38;5;28;01mif\u001b[39;00m axis \u001b[38;5;129;01min\u001b[39;00m [\u001b[38;5;124m'\u001b[39m\u001b[38;5;124mx\u001b[39m\u001b[38;5;124m'\u001b[39m, \u001b[38;5;124m'\u001b[39m\u001b[38;5;124mboth\u001b[39m\u001b[38;5;124m'\u001b[39m]:\n\u001b[0;32m-> 3268\u001b[0m     \u001b[38;5;28;43mself\u001b[39;49m\u001b[38;5;241;43m.\u001b[39;49m\u001b[43mxaxis\u001b[49m\u001b[38;5;241;43m.\u001b[39;49m\u001b[43mgrid\u001b[49m\u001b[43m(\u001b[49m\u001b[43mvisible\u001b[49m\u001b[43m,\u001b[49m\u001b[43m \u001b[49m\u001b[43mwhich\u001b[49m\u001b[38;5;241;43m=\u001b[39;49m\u001b[43mwhich\u001b[49m\u001b[43m,\u001b[49m\u001b[43m \u001b[49m\u001b[38;5;241;43m*\u001b[39;49m\u001b[38;5;241;43m*\u001b[39;49m\u001b[43mkwargs\u001b[49m\u001b[43m)\u001b[49m\n\u001b[1;32m   3269\u001b[0m \u001b[38;5;28;01mif\u001b[39;00m axis \u001b[38;5;129;01min\u001b[39;00m [\u001b[38;5;124m'\u001b[39m\u001b[38;5;124my\u001b[39m\u001b[38;5;124m'\u001b[39m, \u001b[38;5;124m'\u001b[39m\u001b[38;5;124mboth\u001b[39m\u001b[38;5;124m'\u001b[39m]:\n\u001b[1;32m   3270\u001b[0m     \u001b[38;5;28mself\u001b[39m\u001b[38;5;241m.\u001b[39myaxis\u001b[38;5;241m.\u001b[39mgrid(visible, which\u001b[38;5;241m=\u001b[39mwhich, \u001b[38;5;241m*\u001b[39m\u001b[38;5;241m*\u001b[39mkwargs)\n",
      "File \u001b[0;32m~/git/Politecnico/Subjects/deep-learning/an2dl/.venv/lib/python3.12/site-packages/matplotlib/axis.py:1741\u001b[0m, in \u001b[0;36mAxis.grid\u001b[0;34m(self, visible, which, **kwargs)\u001b[0m\n\u001b[1;32m   1738\u001b[0m \u001b[38;5;28;01mif\u001b[39;00m which \u001b[38;5;129;01min\u001b[39;00m [\u001b[38;5;124m'\u001b[39m\u001b[38;5;124mmajor\u001b[39m\u001b[38;5;124m'\u001b[39m, \u001b[38;5;124m'\u001b[39m\u001b[38;5;124mboth\u001b[39m\u001b[38;5;124m'\u001b[39m]:\n\u001b[1;32m   1739\u001b[0m     gridkw[\u001b[38;5;124m'\u001b[39m\u001b[38;5;124mgridOn\u001b[39m\u001b[38;5;124m'\u001b[39m] \u001b[38;5;241m=\u001b[39m (\u001b[38;5;129;01mnot\u001b[39;00m \u001b[38;5;28mself\u001b[39m\u001b[38;5;241m.\u001b[39m_major_tick_kw[\u001b[38;5;124m'\u001b[39m\u001b[38;5;124mgridOn\u001b[39m\u001b[38;5;124m'\u001b[39m]\n\u001b[1;32m   1740\u001b[0m                         \u001b[38;5;28;01mif\u001b[39;00m visible \u001b[38;5;129;01mis\u001b[39;00m \u001b[38;5;28;01mNone\u001b[39;00m \u001b[38;5;28;01melse\u001b[39;00m visible)\n\u001b[0;32m-> 1741\u001b[0m     \u001b[38;5;28;43mself\u001b[39;49m\u001b[38;5;241;43m.\u001b[39;49m\u001b[43mset_tick_params\u001b[49m\u001b[43m(\u001b[49m\u001b[43mwhich\u001b[49m\u001b[38;5;241;43m=\u001b[39;49m\u001b[38;5;124;43m'\u001b[39;49m\u001b[38;5;124;43mmajor\u001b[39;49m\u001b[38;5;124;43m'\u001b[39;49m\u001b[43m,\u001b[49m\u001b[43m \u001b[49m\u001b[38;5;241;43m*\u001b[39;49m\u001b[38;5;241;43m*\u001b[39;49m\u001b[43mgridkw\u001b[49m\u001b[43m)\u001b[49m\n\u001b[1;32m   1742\u001b[0m \u001b[38;5;28mself\u001b[39m\u001b[38;5;241m.\u001b[39mstale \u001b[38;5;241m=\u001b[39m \u001b[38;5;28;01mTrue\u001b[39;00m\n",
      "File \u001b[0;32m~/git/Politecnico/Subjects/deep-learning/an2dl/.venv/lib/python3.12/site-packages/matplotlib/axis.py:999\u001b[0m, in \u001b[0;36mAxis.set_tick_params\u001b[0;34m(self, which, reset, **kwargs)\u001b[0m\n\u001b[1;32m    997\u001b[0m \u001b[38;5;28;01mif\u001b[39;00m which \u001b[38;5;129;01min\u001b[39;00m [\u001b[38;5;124m'\u001b[39m\u001b[38;5;124mmajor\u001b[39m\u001b[38;5;124m'\u001b[39m, \u001b[38;5;124m'\u001b[39m\u001b[38;5;124mboth\u001b[39m\u001b[38;5;124m'\u001b[39m]:\n\u001b[1;32m    998\u001b[0m     \u001b[38;5;28mself\u001b[39m\u001b[38;5;241m.\u001b[39m_major_tick_kw\u001b[38;5;241m.\u001b[39mupdate(kwtrans)\n\u001b[0;32m--> 999\u001b[0m     \u001b[38;5;28;01mfor\u001b[39;00m tick \u001b[38;5;129;01min\u001b[39;00m \u001b[38;5;28;43mself\u001b[39;49m\u001b[38;5;241;43m.\u001b[39;49m\u001b[43mmajorTicks\u001b[49m:\n\u001b[1;32m   1000\u001b[0m         tick\u001b[38;5;241m.\u001b[39m_apply_params(\u001b[38;5;241m*\u001b[39m\u001b[38;5;241m*\u001b[39mkwtrans)\n\u001b[1;32m   1001\u001b[0m \u001b[38;5;28;01mif\u001b[39;00m which \u001b[38;5;129;01min\u001b[39;00m [\u001b[38;5;124m'\u001b[39m\u001b[38;5;124mminor\u001b[39m\u001b[38;5;124m'\u001b[39m, \u001b[38;5;124m'\u001b[39m\u001b[38;5;124mboth\u001b[39m\u001b[38;5;124m'\u001b[39m]:\n",
      "File \u001b[0;32m~/git/Politecnico/Subjects/deep-learning/an2dl/.venv/lib/python3.12/site-packages/matplotlib/axis.py:572\u001b[0m, in \u001b[0;36m_LazyTickList.__get__\u001b[0;34m(self, instance, owner)\u001b[0m\n\u001b[1;32m    570\u001b[0m \u001b[38;5;28;01mif\u001b[39;00m \u001b[38;5;28mself\u001b[39m\u001b[38;5;241m.\u001b[39m_major:\n\u001b[1;32m    571\u001b[0m     instance\u001b[38;5;241m.\u001b[39mmajorTicks \u001b[38;5;241m=\u001b[39m []\n\u001b[0;32m--> 572\u001b[0m     tick \u001b[38;5;241m=\u001b[39m \u001b[43minstance\u001b[49m\u001b[38;5;241;43m.\u001b[39;49m\u001b[43m_get_tick\u001b[49m\u001b[43m(\u001b[49m\u001b[43mmajor\u001b[49m\u001b[38;5;241;43m=\u001b[39;49m\u001b[38;5;28;43;01mTrue\u001b[39;49;00m\u001b[43m)\u001b[49m\n\u001b[1;32m    573\u001b[0m     instance\u001b[38;5;241m.\u001b[39mmajorTicks\u001b[38;5;241m.\u001b[39mappend(tick)\n\u001b[1;32m    574\u001b[0m     \u001b[38;5;28;01mreturn\u001b[39;00m instance\u001b[38;5;241m.\u001b[39mmajorTicks\n",
      "File \u001b[0;32m~/git/Politecnico/Subjects/deep-learning/an2dl/.venv/lib/python3.12/site-packages/matplotlib/axis.py:1598\u001b[0m, in \u001b[0;36mAxis._get_tick\u001b[0;34m(self, major)\u001b[0m\n\u001b[1;32m   1594\u001b[0m     \u001b[38;5;28;01mraise\u001b[39;00m \u001b[38;5;167;01mNotImplementedError\u001b[39;00m(\n\u001b[1;32m   1595\u001b[0m         \u001b[38;5;124mf\u001b[39m\u001b[38;5;124m\"\u001b[39m\u001b[38;5;124mThe Axis subclass \u001b[39m\u001b[38;5;132;01m{\u001b[39;00m\u001b[38;5;28mself\u001b[39m\u001b[38;5;241m.\u001b[39m\u001b[38;5;18m__class__\u001b[39m\u001b[38;5;241m.\u001b[39m\u001b[38;5;18m__name__\u001b[39m\u001b[38;5;132;01m}\u001b[39;00m\u001b[38;5;124m must define \u001b[39m\u001b[38;5;124m\"\u001b[39m\n\u001b[1;32m   1596\u001b[0m         \u001b[38;5;124m\"\u001b[39m\u001b[38;5;124m_tick_class or reimplement _get_tick()\u001b[39m\u001b[38;5;124m\"\u001b[39m)\n\u001b[1;32m   1597\u001b[0m tick_kw \u001b[38;5;241m=\u001b[39m \u001b[38;5;28mself\u001b[39m\u001b[38;5;241m.\u001b[39m_major_tick_kw \u001b[38;5;28;01mif\u001b[39;00m major \u001b[38;5;28;01melse\u001b[39;00m \u001b[38;5;28mself\u001b[39m\u001b[38;5;241m.\u001b[39m_minor_tick_kw\n\u001b[0;32m-> 1598\u001b[0m \u001b[38;5;28;01mreturn\u001b[39;00m \u001b[38;5;28;43mself\u001b[39;49m\u001b[38;5;241;43m.\u001b[39;49m\u001b[43m_tick_class\u001b[49m\u001b[43m(\u001b[49m\u001b[38;5;28;43mself\u001b[39;49m\u001b[38;5;241;43m.\u001b[39;49m\u001b[43maxes\u001b[49m\u001b[43m,\u001b[49m\u001b[43m \u001b[49m\u001b[38;5;241;43m0\u001b[39;49m\u001b[43m,\u001b[49m\u001b[43m \u001b[49m\u001b[43mmajor\u001b[49m\u001b[38;5;241;43m=\u001b[39;49m\u001b[43mmajor\u001b[49m\u001b[43m,\u001b[49m\u001b[43m \u001b[49m\u001b[38;5;241;43m*\u001b[39;49m\u001b[38;5;241;43m*\u001b[39;49m\u001b[43mtick_kw\u001b[49m\u001b[43m)\u001b[49m\n",
      "File \u001b[0;32m~/git/Politecnico/Subjects/deep-learning/an2dl/.venv/lib/python3.12/site-packages/matplotlib/axis.py:395\u001b[0m, in \u001b[0;36mXTick.__init__\u001b[0;34m(self, *args, **kwargs)\u001b[0m\n\u001b[1;32m    394\u001b[0m \u001b[38;5;28;01mdef\u001b[39;00m \u001b[38;5;21m__init__\u001b[39m(\u001b[38;5;28mself\u001b[39m, \u001b[38;5;241m*\u001b[39margs, \u001b[38;5;241m*\u001b[39m\u001b[38;5;241m*\u001b[39mkwargs):\n\u001b[0;32m--> 395\u001b[0m     \u001b[38;5;28;43msuper\u001b[39;49m\u001b[43m(\u001b[49m\u001b[43m)\u001b[49m\u001b[38;5;241;43m.\u001b[39;49m\u001b[38;5;21;43m__init__\u001b[39;49m\u001b[43m(\u001b[49m\u001b[38;5;241;43m*\u001b[39;49m\u001b[43margs\u001b[49m\u001b[43m,\u001b[49m\u001b[43m \u001b[49m\u001b[38;5;241;43m*\u001b[39;49m\u001b[38;5;241;43m*\u001b[39;49m\u001b[43mkwargs\u001b[49m\u001b[43m)\u001b[49m\n\u001b[1;32m    396\u001b[0m     \u001b[38;5;66;03m# x in data coords, y in axes coords\u001b[39;00m\n\u001b[1;32m    397\u001b[0m     ax \u001b[38;5;241m=\u001b[39m \u001b[38;5;28mself\u001b[39m\u001b[38;5;241m.\u001b[39maxes\n",
      "File \u001b[0;32m~/git/Politecnico/Subjects/deep-learning/an2dl/.venv/lib/python3.12/site-packages/matplotlib/axis.py:164\u001b[0m, in \u001b[0;36mTick.__init__\u001b[0;34m(self, axes, loc, size, width, color, tickdir, pad, labelsize, labelcolor, labelfontfamily, zorder, gridOn, tick1On, tick2On, label1On, label2On, major, labelrotation, grid_color, grid_linestyle, grid_linewidth, grid_alpha, **kwargs)\u001b[0m\n\u001b[1;32m    154\u001b[0m \u001b[38;5;28mself\u001b[39m\u001b[38;5;241m.\u001b[39mtick1line \u001b[38;5;241m=\u001b[39m mlines\u001b[38;5;241m.\u001b[39mLine2D(\n\u001b[1;32m    155\u001b[0m     [], [],\n\u001b[1;32m    156\u001b[0m     color\u001b[38;5;241m=\u001b[39mcolor, linestyle\u001b[38;5;241m=\u001b[39m\u001b[38;5;124m\"\u001b[39m\u001b[38;5;124mnone\u001b[39m\u001b[38;5;124m\"\u001b[39m, zorder\u001b[38;5;241m=\u001b[39mzorder, visible\u001b[38;5;241m=\u001b[39mtick1On,\n\u001b[1;32m    157\u001b[0m     markeredgecolor\u001b[38;5;241m=\u001b[39mcolor, markersize\u001b[38;5;241m=\u001b[39msize, markeredgewidth\u001b[38;5;241m=\u001b[39mwidth,\n\u001b[1;32m    158\u001b[0m )\n\u001b[1;32m    159\u001b[0m \u001b[38;5;28mself\u001b[39m\u001b[38;5;241m.\u001b[39mtick2line \u001b[38;5;241m=\u001b[39m mlines\u001b[38;5;241m.\u001b[39mLine2D(\n\u001b[1;32m    160\u001b[0m     [], [],\n\u001b[1;32m    161\u001b[0m     color\u001b[38;5;241m=\u001b[39mcolor, linestyle\u001b[38;5;241m=\u001b[39m\u001b[38;5;124m\"\u001b[39m\u001b[38;5;124mnone\u001b[39m\u001b[38;5;124m\"\u001b[39m, zorder\u001b[38;5;241m=\u001b[39mzorder, visible\u001b[38;5;241m=\u001b[39mtick2On,\n\u001b[1;32m    162\u001b[0m     markeredgecolor\u001b[38;5;241m=\u001b[39mcolor, markersize\u001b[38;5;241m=\u001b[39msize, markeredgewidth\u001b[38;5;241m=\u001b[39mwidth,\n\u001b[1;32m    163\u001b[0m )\n\u001b[0;32m--> 164\u001b[0m \u001b[38;5;28mself\u001b[39m\u001b[38;5;241m.\u001b[39mgridline \u001b[38;5;241m=\u001b[39m \u001b[43mmlines\u001b[49m\u001b[38;5;241;43m.\u001b[39;49m\u001b[43mLine2D\u001b[49m\u001b[43m(\u001b[49m\n\u001b[1;32m    165\u001b[0m \u001b[43m    \u001b[49m\u001b[43m[\u001b[49m\u001b[43m]\u001b[49m\u001b[43m,\u001b[49m\u001b[43m \u001b[49m\u001b[43m[\u001b[49m\u001b[43m]\u001b[49m\u001b[43m,\u001b[49m\n\u001b[1;32m    166\u001b[0m \u001b[43m    \u001b[49m\u001b[43mcolor\u001b[49m\u001b[38;5;241;43m=\u001b[39;49m\u001b[43mgrid_color\u001b[49m\u001b[43m,\u001b[49m\u001b[43m \u001b[49m\u001b[43malpha\u001b[49m\u001b[38;5;241;43m=\u001b[39;49m\u001b[43mgrid_alpha\u001b[49m\u001b[43m,\u001b[49m\u001b[43m \u001b[49m\u001b[43mvisible\u001b[49m\u001b[38;5;241;43m=\u001b[39;49m\u001b[43mgridOn\u001b[49m\u001b[43m,\u001b[49m\n\u001b[1;32m    167\u001b[0m \u001b[43m    \u001b[49m\u001b[43mlinestyle\u001b[49m\u001b[38;5;241;43m=\u001b[39;49m\u001b[43mgrid_linestyle\u001b[49m\u001b[43m,\u001b[49m\u001b[43m \u001b[49m\u001b[43mlinewidth\u001b[49m\u001b[38;5;241;43m=\u001b[39;49m\u001b[43mgrid_linewidth\u001b[49m\u001b[43m,\u001b[49m\u001b[43m \u001b[49m\u001b[43mmarker\u001b[49m\u001b[38;5;241;43m=\u001b[39;49m\u001b[38;5;124;43m\"\u001b[39;49m\u001b[38;5;124;43m\"\u001b[39;49m\u001b[43m,\u001b[49m\n\u001b[1;32m    168\u001b[0m \u001b[43m    \u001b[49m\u001b[38;5;241;43m*\u001b[39;49m\u001b[38;5;241;43m*\u001b[39;49m\u001b[43mgrid_kw\u001b[49m\u001b[43m,\u001b[49m\n\u001b[1;32m    169\u001b[0m \u001b[43m\u001b[49m\u001b[43m)\u001b[49m\n\u001b[1;32m    170\u001b[0m \u001b[38;5;28mself\u001b[39m\u001b[38;5;241m.\u001b[39mgridline\u001b[38;5;241m.\u001b[39mget_path()\u001b[38;5;241m.\u001b[39m_interpolation_steps \u001b[38;5;241m=\u001b[39m \\\n\u001b[1;32m    171\u001b[0m     GRIDLINE_INTERPOLATION_STEPS\n\u001b[1;32m    172\u001b[0m \u001b[38;5;28mself\u001b[39m\u001b[38;5;241m.\u001b[39mlabel1 \u001b[38;5;241m=\u001b[39m mtext\u001b[38;5;241m.\u001b[39mText(\n\u001b[1;32m    173\u001b[0m     np\u001b[38;5;241m.\u001b[39mnan, np\u001b[38;5;241m.\u001b[39mnan,\n\u001b[1;32m    174\u001b[0m     fontsize\u001b[38;5;241m=\u001b[39mlabelsize, color\u001b[38;5;241m=\u001b[39mlabelcolor, visible\u001b[38;5;241m=\u001b[39mlabel1On,\n\u001b[1;32m    175\u001b[0m     fontfamily\u001b[38;5;241m=\u001b[39mlabelfontfamily, rotation\u001b[38;5;241m=\u001b[39m\u001b[38;5;28mself\u001b[39m\u001b[38;5;241m.\u001b[39m_labelrotation[\u001b[38;5;241m1\u001b[39m])\n",
      "File \u001b[0;32m~/git/Politecnico/Subjects/deep-learning/an2dl/.venv/lib/python3.12/site-packages/matplotlib/lines.py:380\u001b[0m, in \u001b[0;36mLine2D.__init__\u001b[0;34m(self, xdata, ydata, linewidth, linestyle, color, gapcolor, marker, markersize, markeredgewidth, markeredgecolor, markerfacecolor, markerfacecoloralt, fillstyle, antialiased, dash_capstyle, solid_capstyle, dash_joinstyle, solid_joinstyle, pickradius, drawstyle, markevery, **kwargs)\u001b[0m\n\u001b[1;32m    378\u001b[0m     marker \u001b[38;5;241m=\u001b[39m \u001b[38;5;124m'\u001b[39m\u001b[38;5;124mnone\u001b[39m\u001b[38;5;124m'\u001b[39m  \u001b[38;5;66;03m# Default.\u001b[39;00m\n\u001b[1;32m    379\u001b[0m \u001b[38;5;28;01mif\u001b[39;00m \u001b[38;5;129;01mnot\u001b[39;00m \u001b[38;5;28misinstance\u001b[39m(marker, MarkerStyle):\n\u001b[0;32m--> 380\u001b[0m     \u001b[38;5;28mself\u001b[39m\u001b[38;5;241m.\u001b[39m_marker \u001b[38;5;241m=\u001b[39m \u001b[43mMarkerStyle\u001b[49m\u001b[43m(\u001b[49m\u001b[43mmarker\u001b[49m\u001b[43m,\u001b[49m\u001b[43m \u001b[49m\u001b[43mfillstyle\u001b[49m\u001b[43m)\u001b[49m\n\u001b[1;32m    381\u001b[0m \u001b[38;5;28;01melse\u001b[39;00m:\n\u001b[1;32m    382\u001b[0m     \u001b[38;5;28mself\u001b[39m\u001b[38;5;241m.\u001b[39m_marker \u001b[38;5;241m=\u001b[39m marker\n",
      "File \u001b[0;32m~/git/Politecnico/Subjects/deep-learning/an2dl/.venv/lib/python3.12/site-packages/matplotlib/markers.py:248\u001b[0m, in \u001b[0;36mMarkerStyle.__init__\u001b[0;34m(self, marker, fillstyle, transform, capstyle, joinstyle)\u001b[0m\n\u001b[1;32m    246\u001b[0m \u001b[38;5;28mself\u001b[39m\u001b[38;5;241m.\u001b[39m_user_joinstyle \u001b[38;5;241m=\u001b[39m JoinStyle(joinstyle) \u001b[38;5;28;01mif\u001b[39;00m joinstyle \u001b[38;5;129;01mis\u001b[39;00m \u001b[38;5;129;01mnot\u001b[39;00m \u001b[38;5;28;01mNone\u001b[39;00m \u001b[38;5;28;01melse\u001b[39;00m \u001b[38;5;28;01mNone\u001b[39;00m\n\u001b[1;32m    247\u001b[0m \u001b[38;5;28mself\u001b[39m\u001b[38;5;241m.\u001b[39m_set_fillstyle(fillstyle)\n\u001b[0;32m--> 248\u001b[0m \u001b[38;5;28;43mself\u001b[39;49m\u001b[38;5;241;43m.\u001b[39;49m\u001b[43m_set_marker\u001b[49m\u001b[43m(\u001b[49m\u001b[43mmarker\u001b[49m\u001b[43m)\u001b[49m\n",
      "File \u001b[0;32m~/git/Politecnico/Subjects/deep-learning/an2dl/.venv/lib/python3.12/site-packages/matplotlib/markers.py:334\u001b[0m, in \u001b[0;36mMarkerStyle._set_marker\u001b[0;34m(self, marker)\u001b[0m\n\u001b[1;32m    332\u001b[0m \u001b[38;5;28;01mif\u001b[39;00m \u001b[38;5;129;01mnot\u001b[39;00m \u001b[38;5;28misinstance\u001b[39m(marker, MarkerStyle):\n\u001b[1;32m    333\u001b[0m     \u001b[38;5;28mself\u001b[39m\u001b[38;5;241m.\u001b[39m_marker \u001b[38;5;241m=\u001b[39m marker\n\u001b[0;32m--> 334\u001b[0m     \u001b[38;5;28;43mself\u001b[39;49m\u001b[38;5;241;43m.\u001b[39;49m\u001b[43m_recache\u001b[49m\u001b[43m(\u001b[49m\u001b[43m)\u001b[49m\n",
      "File \u001b[0;32m~/git/Politecnico/Subjects/deep-learning/an2dl/.venv/lib/python3.12/site-packages/matplotlib/markers.py:254\u001b[0m, in \u001b[0;36mMarkerStyle._recache\u001b[0;34m(self)\u001b[0m\n\u001b[1;32m    252\u001b[0m     \u001b[38;5;28;01mreturn\u001b[39;00m\n\u001b[1;32m    253\u001b[0m \u001b[38;5;28mself\u001b[39m\u001b[38;5;241m.\u001b[39m_path \u001b[38;5;241m=\u001b[39m _empty_path\n\u001b[0;32m--> 254\u001b[0m \u001b[38;5;28mself\u001b[39m\u001b[38;5;241m.\u001b[39m_transform \u001b[38;5;241m=\u001b[39m \u001b[43mIdentityTransform\u001b[49m\u001b[43m(\u001b[49m\u001b[43m)\u001b[49m\n\u001b[1;32m    255\u001b[0m \u001b[38;5;28mself\u001b[39m\u001b[38;5;241m.\u001b[39m_alt_path \u001b[38;5;241m=\u001b[39m \u001b[38;5;28;01mNone\u001b[39;00m\n\u001b[1;32m    256\u001b[0m \u001b[38;5;28mself\u001b[39m\u001b[38;5;241m.\u001b[39m_alt_transform \u001b[38;5;241m=\u001b[39m \u001b[38;5;28;01mNone\u001b[39;00m\n",
      "File \u001b[0;32m~/git/Politecnico/Subjects/deep-learning/an2dl/.venv/lib/python3.12/site-packages/matplotlib/transforms.py:1779\u001b[0m, in \u001b[0;36mAffineBase.__init__\u001b[0;34m(self, *args, **kwargs)\u001b[0m\n\u001b[1;32m   1774\u001b[0m \u001b[38;5;250m\u001b[39m\u001b[38;5;124;03m\"\"\"\u001b[39;00m\n\u001b[1;32m   1775\u001b[0m \u001b[38;5;124;03mThe base class of all affine transformations of any number of dimensions.\u001b[39;00m\n\u001b[1;32m   1776\u001b[0m \u001b[38;5;124;03m\"\"\"\u001b[39;00m\n\u001b[1;32m   1777\u001b[0m is_affine \u001b[38;5;241m=\u001b[39m \u001b[38;5;28;01mTrue\u001b[39;00m\n\u001b[0;32m-> 1779\u001b[0m \u001b[38;5;28;01mdef\u001b[39;00m \u001b[38;5;21m__init__\u001b[39m(\u001b[38;5;28mself\u001b[39m, \u001b[38;5;241m*\u001b[39margs, \u001b[38;5;241m*\u001b[39m\u001b[38;5;241m*\u001b[39mkwargs):\n\u001b[1;32m   1780\u001b[0m     \u001b[38;5;28msuper\u001b[39m()\u001b[38;5;241m.\u001b[39m\u001b[38;5;21m__init__\u001b[39m(\u001b[38;5;241m*\u001b[39margs, \u001b[38;5;241m*\u001b[39m\u001b[38;5;241m*\u001b[39mkwargs)\n\u001b[1;32m   1781\u001b[0m     \u001b[38;5;28mself\u001b[39m\u001b[38;5;241m.\u001b[39m_inverted \u001b[38;5;241m=\u001b[39m \u001b[38;5;28;01mNone\u001b[39;00m\n",
      "\u001b[0;31mKeyboardInterrupt\u001b[0m: "
     ]
    },
    {
     "data": {
      "image/png": "[encoded data removed]",
      "text/plain": [
       "<Figure size 640x480 with 608 Axes>"
      ]
     },
     "metadata": {},
     "output_type": "display_data"
    }
   ],
   "source": [
    "import matplotlib.pyplot as plt\n",
    "\n",
    "fig, axes = plt.subplots(nrows=30, ncols=30)\n",
    "axes = axes.reshape((-1))\n",
    "\n",
    "shuffled_dataset = augmented_train_dataset.shuffle(augmented_train_dataset.cardinality())\n",
    "for ax, (image, _) in zip(axes, shuffled_dataset.as_numpy_iterator()):\n",
    "    ax.set_axis_off()\n",
    "    ax.imshow(image / 255)\n",
    "\n",
    "fig.subplots_adjust(wspace=0, hspace=0)"
   ]
  }
 ],
 "metadata": {
  "kernelspec": {
   "display_name": ".venv",
   "language": "python",
   "name": "python3"
  },
  "language_info": {
   "codemirror_mode": {
    "name": "ipython",
    "version": 3
   },
   "file_extension": ".py",
   "mimetype": "text/x-python",
   "name": "python",
   "nbconvert_exporter": "python",
   "pygments_lexer": "ipython3",
   "version": "3.12.7"
  }
 },
 "nbformat": 4,
 "nbformat_minor": 2
}
